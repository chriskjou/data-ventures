{
 "cells": [
  {
   "cell_type": "markdown",
   "metadata": {},
   "source": [
    "The three packages that you will almost always use as a data scientist are numpy, pandas, and matplotlib. Matplotlib is useful for making plots, numpy makes manipulating arrays much easier, and pandas is generally used for storing and manipulating data. At the top of your code you will want to import the three packages as we've done for you here:"
   ]
  },
  {
   "cell_type": "code",
   "execution_count": 4,
   "metadata": {
    "collapsed": false
   },
   "outputs": [],
   "source": [
    "import numpy as np\n",
    "import pandas as pd\n",
    "import matplotlib.pyplot as plt\n",
    "%matplotlib inline"
   ]
  },
  {
   "cell_type": "markdown",
   "metadata": {},
   "source": [
    "# Predicting Car Prices and Wine Quality with Linear Regression"
   ]
  },
  {
   "cell_type": "markdown",
   "metadata": {},
   "source": [
    "In this workshop, you're going to use what you learned about linear regression on some real world datasets. \n",
    "\n",
    "We'll start by doing some exploratory data analysis. Read in the data using pandas read_csv function and assigning it to a variable.\n",
    "\n",
    "Show the first 5 rows of the data using pandas .head() method"
   ]
  },
  {
   "cell_type": "code",
   "execution_count": 5,
   "metadata": {
    "collapsed": false
   },
   "outputs": [
    {
     "data": {
      "text/html": [
       "<div>\n",
       "<table border=\"1\" class=\"dataframe\">\n",
       "  <thead>\n",
       "    <tr style=\"text-align: right;\">\n",
       "      <th></th>\n",
       "      <th>horsepower</th>\n",
       "      <th>highway MPG</th>\n",
       "      <th>price</th>\n",
       "    </tr>\n",
       "  </thead>\n",
       "  <tbody>\n",
       "    <tr>\n",
       "      <th>0</th>\n",
       "      <td>111.0</td>\n",
       "      <td>27.0</td>\n",
       "      <td>9310.750991</td>\n",
       "    </tr>\n",
       "    <tr>\n",
       "      <th>1</th>\n",
       "      <td>111.0</td>\n",
       "      <td>27.0</td>\n",
       "      <td>23843.283322</td>\n",
       "    </tr>\n",
       "    <tr>\n",
       "      <th>2</th>\n",
       "      <td>154.0</td>\n",
       "      <td>26.0</td>\n",
       "      <td>37464.419918</td>\n",
       "    </tr>\n",
       "    <tr>\n",
       "      <th>3</th>\n",
       "      <td>102.0</td>\n",
       "      <td>30.0</td>\n",
       "      <td>870.709466</td>\n",
       "    </tr>\n",
       "    <tr>\n",
       "      <th>4</th>\n",
       "      <td>115.0</td>\n",
       "      <td>22.0</td>\n",
       "      <td>17638.467488</td>\n",
       "    </tr>\n",
       "  </tbody>\n",
       "</table>\n",
       "</div>"
      ],
      "text/plain": [
       "   horsepower   highway MPG         price\n",
       "0       111.0          27.0   9310.750991\n",
       "1       111.0          27.0  23843.283322\n",
       "2       154.0          26.0  37464.419918\n",
       "3       102.0          30.0    870.709466\n",
       "4       115.0          22.0  17638.467488"
      ]
     },
     "execution_count": 5,
     "metadata": {},
     "output_type": "execute_result"
    }
   ],
   "source": [
    "df_train = pd.read_csv('car_prices_train.txt')\n",
    "df_test = pd.read_csv('car_prices_test.txt')\n",
    "df_train.head(5)"
   ]
  },
  {
   "cell_type": "markdown",
   "metadata": {},
   "source": [
    "In Python, most machine learning algorithms are already implemented for you in the SKLearn package; so implementing standard machine learning algorithms is something you do once (in a class like CS181) and never have to do again. \n",
    "\n",
    "For each machine learning algorithm you will generally use 3 methods:\n",
    "\n",
    "1) Model.fit(X,Y): This trains the algorithm using your input data (X), and labels (Y)\n",
    "\n",
    "2) Model.score(X,Y): This computes the R^2 score of your fitted model on data (X) and labels (Y)\n",
    "\n",
    "3) Model.predict(X): This creates a new Y variable that is the prediction based on new input data (X)\n",
    "\n",
    "From sklearn, we import LinearRegression:"
   ]
  },
  {
   "cell_type": "code",
   "execution_count": 6,
   "metadata": {
    "collapsed": false
   },
   "outputs": [],
   "source": [
    "from sklearn.linear_model import LinearRegression "
   ]
  },
  {
   "cell_type": "markdown",
   "metadata": {},
   "source": [
    "Note that for some weird reason price has a space in front of it so keep that in mind"
   ]
  },
  {
   "cell_type": "code",
   "execution_count": 8,
   "metadata": {
    "collapsed": false
   },
   "outputs": [],
   "source": [
    "y = df_train[' price']\n",
    "x = df_train.drop([' price'],axis=1)"
   ]
  },
  {
   "cell_type": "code",
   "execution_count": 9,
   "metadata": {
    "collapsed": false
   },
   "outputs": [
    {
     "data": {
      "text/plain": [
       "LinearRegression(copy_X=True, fit_intercept=True, n_jobs=1, normalize=False)"
      ]
     },
     "execution_count": 9,
     "metadata": {},
     "output_type": "execute_result"
    }
   ],
   "source": [
    "LinReg = LinearRegression()\n",
    "LinReg.fit(x,y)"
   ]
  },
  {
   "cell_type": "code",
   "execution_count": 10,
   "metadata": {
    "collapsed": false
   },
   "outputs": [
    {
     "data": {
      "text/plain": [
       "0.2056070565604442"
      ]
     },
     "execution_count": 10,
     "metadata": {},
     "output_type": "execute_result"
    }
   ],
   "source": [
    "LinReg.score(x,y)"
   ]
  },
  {
   "cell_type": "markdown",
   "metadata": {},
   "source": [
    "Well, this isn't very good. Let's see what happens with a more complex algorithm: Random Forests (which we'll get to next week)"
   ]
  },
  {
   "cell_type": "code",
   "execution_count": 11,
   "metadata": {
    "collapsed": false
   },
   "outputs": [
    {
     "data": {
      "text/plain": [
       "0.62973021850460753"
      ]
     },
     "execution_count": 11,
     "metadata": {},
     "output_type": "execute_result"
    }
   ],
   "source": [
    "from sklearn.ensemble import RandomForestRegressor\n",
    "rf = RandomForestRegressor()\n",
    "rf.fit(x,y)\n",
    "rf.score(x,y)"
   ]
  },
  {
   "cell_type": "markdown",
   "metadata": {},
   "source": [
    "## **Task**: \n",
    "\n",
    "1) Plot the variables against price (using Matplotlib) and see what you notice. Which ones have strong correlation with the output variable?  \n",
    "\n",
    "2) What do you think is the most important predictor? Perform single variable linear regression with that feature, and then add polynomial terms (We'll explain what this means)\n",
    "\n",
    "3) Improve the performance of the linear regression model by using Ridge and Lasso regression and tuning the regularization paramater. The baseline performance is 0.2 so see if you can beat that. Feel free to research andother model and apply it.\n",
    "\n"
   ]
  },
  {
   "cell_type": "code",
   "execution_count": 12,
   "metadata": {
    "collapsed": true
   },
   "outputs": [],
   "source": [
    "from sklearn.linear_model import Ridge\n",
    "from sklearn.linear_model import Lasso"
   ]
  },
  {
   "cell_type": "code",
   "execution_count": 113,
   "metadata": {
    "collapsed": false
   },
   "outputs": [
    {
     "data": {
      "image/png": "[encoded data removed]",
      "text/plain": [
       "<matplotlib.figure.Figure at 0x11b0bed90>"
      ]
     },
     "metadata": {},
     "output_type": "display_data"
    },
    {
     "data": {
      "text/plain": [
       "0.99666013678287402"
      ]
     },
     "execution_count": 113,
     "metadata": {},
     "output_type": "execute_result"
    }
   ],
   "source": [
    "df = pd.read_csv('dataset_2.txt')\n",
    "# plt.scatter(df['x1'], df[' y'])\n",
    "# plt.scatter(df[' x2'], df[' y'])\n",
    "# plt.scatter(df[' x3'], df[' y']);\n",
    "# plt.scatter(df[' x4'], df[' y']);\n",
    "plt.scatter(df[' x5'], df[' y']);\n",
    "plt.show()\n",
    "# x5 and y have the strongest correlation\n",
    "\n",
    "x = df.drop([' y'],axis=1)\n",
    "y = df[' y']\n",
    "LinReg = LinearRegression()\n",
    "LinReg.fit(x, y)\n",
    "\n",
    "LinReg.score(x,y)\n",
    "\n",
    "rf = RandomForestRegressor()\n",
    "rf.fit(x,y)\n",
    "rf.score(x,y)"
   ]
  },
  {
   "cell_type": "code",
   "execution_count": 14,
   "metadata": {
    "collapsed": false
   },
   "outputs": [
    {
     "data": {
      "text/html": [
       "<div>\n",
       "<table border=\"1\" class=\"dataframe\">\n",
       "  <thead>\n",
       "    <tr style=\"text-align: right;\">\n",
       "      <th></th>\n",
       "      <th>x1</th>\n",
       "      <th>x2</th>\n",
       "      <th>x3</th>\n",
       "      <th>x4</th>\n",
       "      <th>x5</th>\n",
       "      <th>y</th>\n",
       "    </tr>\n",
       "  </thead>\n",
       "  <tbody>\n",
       "    <tr>\n",
       "      <th>0</th>\n",
       "      <td>0.534830</td>\n",
       "      <td>0.233581</td>\n",
       "      <td>0.447433</td>\n",
       "      <td>0.967102</td>\n",
       "      <td>1.587361</td>\n",
       "      <td>4.471265</td>\n",
       "    </tr>\n",
       "    <tr>\n",
       "      <th>1</th>\n",
       "      <td>0.940499</td>\n",
       "      <td>0.974672</td>\n",
       "      <td>0.732063</td>\n",
       "      <td>0.795307</td>\n",
       "      <td>2.652863</td>\n",
       "      <td>5.377835</td>\n",
       "    </tr>\n",
       "    <tr>\n",
       "      <th>2</th>\n",
       "      <td>0.106522</td>\n",
       "      <td>0.660622</td>\n",
       "      <td>0.803072</td>\n",
       "      <td>0.982553</td>\n",
       "      <td>2.139901</td>\n",
       "      <td>4.708145</td>\n",
       "    </tr>\n",
       "    <tr>\n",
       "      <th>3</th>\n",
       "      <td>0.014652</td>\n",
       "      <td>0.513905</td>\n",
       "      <td>0.933434</td>\n",
       "      <td>0.500592</td>\n",
       "      <td>1.739034</td>\n",
       "      <td>4.032083</td>\n",
       "    </tr>\n",
       "    <tr>\n",
       "      <th>4</th>\n",
       "      <td>0.851990</td>\n",
       "      <td>0.737525</td>\n",
       "      <td>0.729370</td>\n",
       "      <td>0.817491</td>\n",
       "      <td>2.392881</td>\n",
       "      <td>5.116808</td>\n",
       "    </tr>\n",
       "  </tbody>\n",
       "</table>\n",
       "</div>"
      ],
      "text/plain": [
       "         x1        x2        x3        x4        x5         y\n",
       "0  0.534830  0.233581  0.447433  0.967102  1.587361  4.471265\n",
       "1  0.940499  0.974672  0.732063  0.795307  2.652863  5.377835\n",
       "2  0.106522  0.660622  0.803072  0.982553  2.139901  4.708145\n",
       "3  0.014652  0.513905  0.933434  0.500592  1.739034  4.032083\n",
       "4  0.851990  0.737525  0.729370  0.817491  2.392881  5.116808"
      ]
     },
     "execution_count": 14,
     "metadata": {},
     "output_type": "execute_result"
    }
   ],
   "source": [
    "df.head()"
   ]
  },
  {
   "cell_type": "markdown",
   "metadata": {},
   "source": [
    "## Real life application: Wine Quality"
   ]
  },
  {
   "cell_type": "markdown",
   "metadata": {},
   "source": [
    "Let's try working with a more complicated dataset. The data is separated by semicolons rather than commas, so keep in mind that we need to set delimiter = ';'"
   ]
  },
  {
   "cell_type": "code",
   "execution_count": 50,
   "metadata": {
    "collapsed": false
   },
   "outputs": [],
   "source": [
    "wine = pd.read_csv('wine_quality_red.csv', delimiter = ';')"
   ]
  },
  {
   "cell_type": "code",
   "execution_count": 51,
   "metadata": {
    "collapsed": false
   },
   "outputs": [
    {
     "data": {
      "text/html": [
       "<div>\n",
       "<table border=\"1\" class=\"dataframe\">\n",
       "  <thead>\n",
       "    <tr style=\"text-align: right;\">\n",
       "      <th></th>\n",
       "      <th>fixed acidity</th>\n",
       "      <th>volatile acidity</th>\n",
       "      <th>citric acid</th>\n",
       "      <th>residual sugar</th>\n",
       "      <th>chlorides</th>\n",
       "      <th>free sulfur dioxide</th>\n",
       "      <th>total sulfur dioxide</th>\n",
       "      <th>density</th>\n",
       "      <th>pH</th>\n",
       "      <th>sulphates</th>\n",
       "      <th>alcohol</th>\n",
       "      <th>quality</th>\n",
       "    </tr>\n",
       "  </thead>\n",
       "  <tbody>\n",
       "    <tr>\n",
       "      <th>0</th>\n",
       "      <td>7.4</td>\n",
       "      <td>0.70</td>\n",
       "      <td>0.00</td>\n",
       "      <td>1.9</td>\n",
       "      <td>0.076</td>\n",
       "      <td>11.0</td>\n",
       "      <td>34.0</td>\n",
       "      <td>0.9978</td>\n",
       "      <td>3.51</td>\n",
       "      <td>0.56</td>\n",
       "      <td>9.4</td>\n",
       "      <td>5</td>\n",
       "    </tr>\n",
       "    <tr>\n",
       "      <th>1</th>\n",
       "      <td>7.8</td>\n",
       "      <td>0.88</td>\n",
       "      <td>0.00</td>\n",
       "      <td>2.6</td>\n",
       "      <td>0.098</td>\n",
       "      <td>25.0</td>\n",
       "      <td>67.0</td>\n",
       "      <td>0.9968</td>\n",
       "      <td>3.20</td>\n",
       "      <td>0.68</td>\n",
       "      <td>9.8</td>\n",
       "      <td>5</td>\n",
       "    </tr>\n",
       "    <tr>\n",
       "      <th>2</th>\n",
       "      <td>7.8</td>\n",
       "      <td>0.76</td>\n",
       "      <td>0.04</td>\n",
       "      <td>2.3</td>\n",
       "      <td>0.092</td>\n",
       "      <td>15.0</td>\n",
       "      <td>54.0</td>\n",
       "      <td>0.9970</td>\n",
       "      <td>3.26</td>\n",
       "      <td>0.65</td>\n",
       "      <td>9.8</td>\n",
       "      <td>5</td>\n",
       "    </tr>\n",
       "    <tr>\n",
       "      <th>3</th>\n",
       "      <td>11.2</td>\n",
       "      <td>0.28</td>\n",
       "      <td>0.56</td>\n",
       "      <td>1.9</td>\n",
       "      <td>0.075</td>\n",
       "      <td>17.0</td>\n",
       "      <td>60.0</td>\n",
       "      <td>0.9980</td>\n",
       "      <td>3.16</td>\n",
       "      <td>0.58</td>\n",
       "      <td>9.8</td>\n",
       "      <td>6</td>\n",
       "    </tr>\n",
       "    <tr>\n",
       "      <th>4</th>\n",
       "      <td>7.4</td>\n",
       "      <td>0.70</td>\n",
       "      <td>0.00</td>\n",
       "      <td>1.9</td>\n",
       "      <td>0.076</td>\n",
       "      <td>11.0</td>\n",
       "      <td>34.0</td>\n",
       "      <td>0.9978</td>\n",
       "      <td>3.51</td>\n",
       "      <td>0.56</td>\n",
       "      <td>9.4</td>\n",
       "      <td>5</td>\n",
       "    </tr>\n",
       "  </tbody>\n",
       "</table>\n",
       "</div>"
      ],
      "text/plain": [
       "   fixed acidity  volatile acidity  citric acid  residual sugar  chlorides  \\\n",
       "0            7.4              0.70         0.00             1.9      0.076   \n",
       "1            7.8              0.88         0.00             2.6      0.098   \n",
       "2            7.8              0.76         0.04             2.3      0.092   \n",
       "3           11.2              0.28         0.56             1.9      0.075   \n",
       "4            7.4              0.70         0.00             1.9      0.076   \n",
       "\n",
       "   free sulfur dioxide  total sulfur dioxide  density    pH  sulphates  \\\n",
       "0                 11.0                  34.0   0.9978  3.51       0.56   \n",
       "1                 25.0                  67.0   0.9968  3.20       0.68   \n",
       "2                 15.0                  54.0   0.9970  3.26       0.65   \n",
       "3                 17.0                  60.0   0.9980  3.16       0.58   \n",
       "4                 11.0                  34.0   0.9978  3.51       0.56   \n",
       "\n",
       "   alcohol  quality  \n",
       "0      9.4        5  \n",
       "1      9.8        5  \n",
       "2      9.8        5  \n",
       "3      9.8        6  \n",
       "4      9.4        5  "
      ]
     },
     "execution_count": 51,
     "metadata": {},
     "output_type": "execute_result"
    }
   ],
   "source": [
    "wine.head()"
   ]
  },
  {
   "cell_type": "markdown",
   "metadata": {},
   "source": [
    "Our goal is to predict wine quality from these properties. Like single feature linear regression, multivariate linear regression fits a linear model mapping the feature vector $x = (x_1, x_2, ..., x_n)$ to the output $y$. "
   ]
  },
  {
   "cell_type": "markdown",
   "metadata": {},
   "source": [
    "First, try predicting output using single features. Pick a couple of features that you think might be indicative of wine quality, and perform single variable linear regression to predict quality. Report on your accuracy."
   ]
  },
  {
   "cell_type": "code",
   "execution_count": 104,
   "metadata": {
    "collapsed": false
   },
   "outputs": [
    {
     "data": {
      "image/png": "[encoded data removed]",
      "text/plain": [
       "<matplotlib.figure.Figure at 0x11bec8ed0>"
      ]
     },
     "metadata": {},
     "output_type": "display_data"
    }
   ],
   "source": [
    "y = wine['quality'];\n",
    "\"\"\"\n",
    "x1 = wine['fixed acidity'];\n",
    "plt.scatter(x1, y);\n",
    "plt.show()\n",
    "\n",
    "x2 = wine['volatile acidity'];\n",
    "plt.scatter(x2, y);\n",
    "plt.show()\n",
    "\n",
    "x3 = wine['citric acid'];\n",
    "plt.scatter(x3, y);\n",
    "plt.show()\n",
    "\n",
    "x4 = wine['chlorides'];\n",
    "plt.scatter(x4, y);\n",
    "plt.show()\n",
    "\n",
    "x5 = wine['free sulfur dioxide'];\n",
    "plt.scatter(x5, y);\n",
    "plt.show()\n",
    "\n",
    "x6 = wine['total sulfur dioxide'];\n",
    "plt.scatter(x6, y);\n",
    "plt.show()\n",
    "\n",
    "x7 = wine['density'];\n",
    "plt.scatter(x7, y);\n",
    "plt.show()\n",
    "\n",
    "x8 = wine['pH'];\n",
    "plt.scatter(x8, y);\n",
    "plt.show()\n",
    "\n",
    "x9 = wine['sulphates'];\n",
    "plt.scatter(x9, y);\n",
    "plt.show()\n",
    "\"\"\"\n",
    "\n",
    "x10 = wine['alcohol'];\n",
    "plt.scatter(x10, y);\n",
    "plt.show()"
   ]
  },
  {
   "cell_type": "markdown",
   "metadata": {},
   "source": [
    "Now, perform linear regression with all of the features. We will be explaining the theory behind this if you want, but for now just assume that our single variable model of linear regression extends to multiple variables. Report on this result, and compare it to the results obtained earlier. What do you find?"
   ]
  },
  {
   "cell_type": "code",
   "execution_count": 112,
   "metadata": {
    "collapsed": false
   },
   "outputs": [
    {
     "data": {
      "text/plain": [
       "0.90069711633667826"
      ]
     },
     "execution_count": 112,
     "metadata": {},
     "output_type": "execute_result"
    }
   ],
   "source": [
    "x_alcohol = wine.drop('quality', axis=1)\n",
    "y_quality = wine['quality']\n",
    "LinReg = LinearRegression()\n",
    "LinReg.fit(x_alcohol, y_quality)\n",
    "\n",
    "LinReg.score(x_alcohol, y_quality)\n",
    "\n",
    "rf = RandomForestRegressor()\n",
    "rf.fit(x_alcohol, y_quality)\n",
    "rf.score(x_alcohol, y_quality)"
   ]
  },
  {
   "cell_type": "code",
   "execution_count": null,
   "metadata": {
    "collapsed": true
   },
   "outputs": [],
   "source": []
  }
 ],
 "metadata": {
  "kernelspec": {
   "display_name": "Python 2",
   "language": "python",
   "name": "python2"
  },
  "language_info": {
   "codemirror_mode": {
    "name": "ipython",
    "version": 2
   },
   "file_extension": ".py",
   "mimetype": "text/x-python",
   "name": "python",
   "nbconvert_exporter": "python",
   "pygments_lexer": "ipython2",
   "version": "2.7.13"
  }
 },
 "nbformat": 4,
 "nbformat_minor": 0
}
